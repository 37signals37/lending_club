{
 "cells": [
  {
   "cell_type": "markdown",
   "id": "8675c944",
   "metadata": {},
   "source": [
    "# Setup"
   ]
  },
  {
   "cell_type": "markdown",
   "id": "9fe14965",
   "metadata": {},
   "source": [
    "## Imports"
   ]
  },
  {
   "cell_type": "code",
   "execution_count": 1,
   "id": "9d313fb0",
   "metadata": {},
   "outputs": [],
   "source": [
    "# Setup: imports, settings, and helpers\n",
    "import os\n",
    "import sys\n",
    "import json\n",
    "import math\n",
    "import numpy as np\n",
    "import pandas as pd\n",
    "import matplotlib.pyplot as plt\n",
    "\n",
    "from sklearn.model_selection import train_test_split\n",
    "from sklearn.preprocessing import LabelEncoder\n",
    "\n",
    "from scipy.stats import fisher_exact\n",
    "\n",
    "import warnings"
   ]
  },
  {
   "cell_type": "markdown",
   "id": "7e830fb2",
   "metadata": {},
   "source": [
    "## Notebook Configuration"
   ]
  },
  {
   "cell_type": "code",
   "execution_count": 2,
   "id": "a240f8e0",
   "metadata": {},
   "outputs": [],
   "source": [
    "warnings.filterwarnings('ignore')\n",
    "np.set_printoptions(precision=4, suppress=True)\n",
    "pd.set_option('display.max_columns', 120)\n",
    "pd.set_option('display.width', 160)"
   ]
  },
  {
   "cell_type": "markdown",
   "id": "c26d4ed8",
   "metadata": {},
   "source": [
    "## Constants"
   ]
  },
  {
   "cell_type": "code",
   "execution_count": 3,
   "id": "d2f148d6",
   "metadata": {},
   "outputs": [],
   "source": [
    "SEED = 42 # Random seed for reproducibility\n",
    "\n",
    "# Split Ratios\n",
    "TRAIN_SIZE = 0.8  # Proportion of data for training set\n",
    "VAL_SIZE = 0.1  # Proportion of data for validation set\n",
    "TEST_SIZE = 0.1  # Proportion of data for test set\n",
    "\n",
    "# Columns\n",
    "TARGET_COL = 'is_bad'  # Target column for classification\n",
    "NUMERICAL_COLS = [\"annual_inc\",\"delinq_2yrs\"]\n",
    "CAT_COLS = [\"home_ownership\", \"verification_status\", \"pymnt_plan\", \"purpose_cat\", \"zip_code\", \"addr_state\", ]\n",
    "# CONT_COLS = [\"annual_inc\", \"debt_to_income\", \"\"]\n",
    "# TEXT_COLS = [\"Notes\", \"purpose\", ]\n",
    "# RAT_COLS = [\"delinq_2yrs\"]\n",
    "# DISCRETE_COLS = [\"open_acc\", \"pub_rec\", \"total_acc\", \"acc_now_delinq\", \"tot_coll_amt\", \"tot_cur_bal\", \"total_rev_hi_lim\"]\n",
    "# DATE_COLS = [\"earliest_cr_line\"]\n",
    "\n",
    "# Filepaths\n",
    "DATA_PATH = 'lending_club_dataset.csv'\n",
    "SCHEMA_VALIDATION_PATH = 'schema_validation_sheet.csv'\n",
    "ERROR_DATASET_PATH = 'error_dataset.csv'\n",
    "\n",
    "# Allowed column datatypes (These are the allowed pandas dtypes for the dataset)\n",
    "ALLOWED_DTYPES = ['Int64', 'float64', 'object', 'datetime64[ns]']"
   ]
  },
  {
   "cell_type": "markdown",
   "id": "4920002c",
   "metadata": {},
   "source": [
    "## Helper Functions"
   ]
  },
  {
   "cell_type": "code",
   "execution_count": 4,
   "id": "96f10d83",
   "metadata": {},
   "outputs": [],
   "source": [
    "# get individual column description\n",
    "def describe_column(df: pd.DataFrame, col: str):\n",
    "    print(f\"Missing Values: {df[col].isnull().sum()}\")\n",
    "    print(f\"Unique Values: {df[col].nunique()}\")\n",
    "\n",
    "    try:\n",
    "        print(f\"Min Value: {df[col].min()}\")\n",
    "        print(f\"Max Value: {df[col].max()}\")\n",
    "    except:\n",
    "        pass\n",
    "\n",
    "    print(df[col].value_counts(dropna=False).head(10))\n",
    "    print()\n",
    "    print(df[col].describe(include='all'))"
   ]
  },
  {
   "cell_type": "markdown",
   "id": "3068d27d",
   "metadata": {},
   "source": [
    "# Statistical Tests"
   ]
  },
  {
   "cell_type": "markdown",
   "id": "05d9ec46",
   "metadata": {},
   "source": [
    "### Fisher's Exact Test"
   ]
  },
  {
   "cell_type": "code",
   "execution_count": 5,
   "id": "56641669",
   "metadata": {},
   "outputs": [],
   "source": [
    "def fisher_exact_test(df: pd.DataFrame, feature_col: str, positive_feature: int, target_col: str):\n",
    "    contingency_table = pd.crosstab(df[feature_col] == positive_feature, df[target_col])\n",
    "\n",
    "    print(\"Contingency table:\\n\", contingency_table)\n",
    "\n",
    "    # Fisher's exact test\n",
    "    odds_ratio, p_value = fisher_exact(contingency_table)\n",
    "\n",
    "    print(f\"Fisher's Exact Test odds ratio: {odds_ratio:.4f}\")\n",
    "    print(f\"p-value: {p_value:.4g}\")"
   ]
  },
  {
   "cell_type": "markdown",
   "id": "03670c7f",
   "metadata": {},
   "source": [
    "## Loading the Dataset, Schema Validation Sheet, and Error set"
   ]
  },
  {
   "cell_type": "code",
   "execution_count": 6,
   "id": "12919f9c",
   "metadata": {},
   "outputs": [],
   "source": [
    "# Utility: safe read CSV with basic dtype hints\n",
    "def read_csv_safely(path: str) -> pd.DataFrame:\n",
    "    if not os.path.exists(path):\n",
    "        raise FileNotFoundError(f\"Dataset not found at {path}. Please ensure the CSV is in the workspace root.\")\n",
    "    # Low-memory to reduce dtype inference churn\n",
    "    return pd.read_csv(path, low_memory=False)"
   ]
  },
  {
   "cell_type": "code",
   "execution_count": 7,
   "id": "72d1edb4",
   "metadata": {},
   "outputs": [
    {
     "name": "stdout",
     "output_type": "stream",
     "text": [
      "Loaded dataset with shape: (10000, 28)\n"
     ]
    }
   ],
   "source": [
    "# Load dataset\n",
    "try:\n",
    "    df_raw = read_csv_safely(DATA_PATH)\n",
    "    print(\"Loaded dataset with shape:\", df_raw.shape)\n",
    "except Exception as e:\n",
    "    print(\"Failed to load dataset:\", e)\n",
    "    raise"
   ]
  },
  {
   "cell_type": "code",
   "execution_count": 8,
   "id": "52c23ec1",
   "metadata": {},
   "outputs": [
    {
     "name": "stdout",
     "output_type": "stream",
     "text": [
      "Loaded dataset with shape: (28, 9)\n"
     ]
    }
   ],
   "source": [
    "# Load validation schema\n",
    "try:\n",
    "    df_schema_validation = read_csv_safely(SCHEMA_VALIDATION_PATH)\n",
    "    print(\"Loaded dataset with shape:\", df_schema_validation.shape)\n",
    "except Exception as e:\n",
    "    print(\"Failed to load dataset:\", e)\n",
    "    raise"
   ]
  },
  {
   "cell_type": "code",
   "execution_count": 9,
   "id": "d89714bc",
   "metadata": {},
   "outputs": [],
   "source": [
    "# Load error dataset\n",
    "# try:\n",
    "#     df_error = read_csv_safely(ERROR_DATASET_PATH)\n",
    "#     print(\"Loaded dataset with shape:\", df_error.shape)\n",
    "# except Exception as e:\n",
    "#     print(\"Failed to load dataset:\", e)\n",
    "#     raise"
   ]
  },
  {
   "cell_type": "markdown",
   "id": "e8eaeffc",
   "metadata": {},
   "source": [
    "# Data Validation and Transformation"
   ]
  },
  {
   "cell_type": "markdown",
   "id": "98dcc300",
   "metadata": {},
   "source": [
    "### Check that all columns in dataset are present in schema validation"
   ]
  },
  {
   "cell_type": "code",
   "execution_count": 10,
   "id": "7255edad",
   "metadata": {},
   "outputs": [],
   "source": [
    "def check_cols_present(df: pd.DataFrame, df_schema: pd.DataFrame):\n",
    "    \n",
    "    schema_cols = df_schema['column'].tolist()\n",
    "\n",
    "    cols_missing_from_schema = set(df.columns) - set(schema_cols)\n",
    "    if cols_missing_from_schema:\n",
    "        print(f\"Columns not present in schema but in dataset: {list(cols_missing_from_schema)}\")\n",
    "    cols_missing_from_dataframe = set(schema_cols) - set(df.columns)\n",
    "    if cols_missing_from_dataframe:\n",
    "        print(f\"Columns present in schema but not in dataset: {list(cols_missing_from_dataframe)}\")\n",
    "\n",
    "check_cols_present(df_raw, df_schema_validation)"
   ]
  },
  {
   "cell_type": "markdown",
   "id": "c4aa92ba",
   "metadata": {},
   "source": [
    "### Find problematic values when trying to convert column to target data type"
   ]
  },
  {
   "cell_type": "code",
   "execution_count": 11,
   "id": "1ff1b536",
   "metadata": {},
   "outputs": [
    {
     "name": "stdout",
     "output_type": "stream",
     "text": [
      "Column emp_length has problematic values when attempting to convert: ['na']\n"
     ]
    }
   ],
   "source": [
    "def find_problematic_values_for_conversion(df_raw: pd.DataFrame, df_schema_validation: pd.DataFrame):\n",
    "    df_col_checks = df_raw.copy()\n",
    "    cols_with_issues = {}\n",
    "\n",
    "    for col in df_col_checks.columns:\n",
    "\n",
    "        if df_col_checks[col].dtype.name != df_schema_validation.loc[df_schema_validation['column'] == col, 'expected_dtype'].values[0]:\n",
    "\n",
    "            issues = []\n",
    "\n",
    "            # for dtypes starting as object, int64, and float64 that will be converted to Int64\n",
    "            if df_schema_validation.loc[df_schema_validation['column'] == col, 'expected_dtype'].values[0] == \"Int64\":        \n",
    "                try:\n",
    "                    # Attempt conversion directly to Int64\n",
    "                    df_col_checks[col] = df_col_checks[col].astype(\"Int64\")\n",
    "                except Exception:\n",
    "                    # Anything that can't be coerced into Int64 is problematic\n",
    "                    bad_mask = pd.to_numeric(df_col_checks[col], errors=\"coerce\").isna()\n",
    "                    problematic = df_col_checks.loc[bad_mask, col].unique().tolist()\n",
    "                    cols_with_issues[col] = problematic\n",
    "\n",
    "            # for dtypes starting as object that will be converted to datetime\n",
    "            if df_schema_validation.loc[df_schema_validation['column'] == col, 'expected_dtype'].values[0] == \"datetime64[ns]\":\n",
    "                try:\n",
    "                    # Attempt conversion directly to datetime\n",
    "                    df_col_checks[col] = pd.to_datetime(df_col_checks[col], format=\"%m/%d/%y\")\n",
    "                except Exception:\n",
    "                    # Anything that can't be coerced into datetime is problematic\n",
    "                    bad_mask = pd.to_datetime(df_col_checks[col], format=\"%m/%d/%y\", errors=\"coerce\").isna()\n",
    "                    problematic = df_col_checks.loc[bad_mask, col].unique().tolist()\n",
    "                    cols_with_issues[col] = problematic\n",
    "\n",
    "    for k,v in cols_with_issues.items():\n",
    "        print(f\"Column {k} has problematic values when attempting to convert: {v}\")\n",
    "\n",
    "find_problematic_values_for_conversion(df_raw, df_schema_validation)"
   ]
  },
  {
   "cell_type": "markdown",
   "id": "4fcf086d",
   "metadata": {},
   "source": [
    "### Fixing specific columns with problematic values in df_raw"
   ]
  },
  {
   "cell_type": "code",
   "execution_count": 12,
   "id": "e61d37ff",
   "metadata": {},
   "outputs": [],
   "source": [
    "# Fixing \"na\" values in \"emp_length\"\n",
    "df_raw[\"emp_length\"] = df_raw[\"emp_length\"].replace(\"na\", pd.NA)"
   ]
  },
  {
   "cell_type": "markdown",
   "id": "1e0f9f41",
   "metadata": {},
   "source": [
    "# Convert columns to target data type in df_raw\n",
    "\n",
    "Since problematic values have been fixed in df_raw, the following cell should run without errors"
   ]
  },
  {
   "cell_type": "code",
   "execution_count": 13,
   "id": "0c987c5f",
   "metadata": {},
   "outputs": [],
   "source": [
    "# Transform column types based on schema validation\n",
    "for col in df_raw.columns:\n",
    "    if df_raw[col].dtype.name != df_schema_validation.loc[df_schema_validation['column'] == col, 'expected_dtype'].values[0]:\n",
    "\n",
    "        if df_schema_validation.loc[df_schema_validation['column'] == col, 'expected_dtype'].values[0] == \"Int64\":\n",
    "            df_raw[col] = df_raw[col].astype(\"Int64\")\n",
    "\n",
    "        if df_schema_validation.loc[df_schema_validation['column'] == col, 'expected_dtype'].values[0] == \"datetime64[ns]\":\n",
    "            \n",
    "            if col == \"earliest_cr_line\":\n",
    "                df_raw[col] = pd.to_datetime(df_raw[col], format=\"%m/%d/%y\")       "
   ]
  },
  {
   "cell_type": "markdown",
   "id": "12f688c4",
   "metadata": {},
   "source": [
    "### Confirm that there are no columns that do match intended dtype"
   ]
  },
  {
   "cell_type": "code",
   "execution_count": 14,
   "id": "bfc2e2f8",
   "metadata": {},
   "outputs": [],
   "source": [
    "for col in df_raw.columns:\n",
    "    if df_raw[col].dtype.name != df_schema_validation.loc[df_schema_validation['column'] == col, 'expected_dtype'].values[0]:\n",
    "        print(col)\n",
    "\n",
    "    if df_raw[col].dtype.name not in ALLOWED_DTYPES:\n",
    "        print(f\"Column {col} has unexpected dtype {df_raw[col].dtype.name}\")"
   ]
  },
  {
   "cell_type": "markdown",
   "id": "4d69d33b",
   "metadata": {},
   "source": [
    "# Check that values in each column are within ranges and allowed values prescribed in schema validation"
   ]
  },
  {
   "cell_type": "code",
   "execution_count": 15,
   "id": "a0d2428d",
   "metadata": {},
   "outputs": [
    {
     "data": {
      "text/plain": [
       "['emp_length has a unique count 13 greater than maximum 10.',\n",
       " 'emp_length has 8 values [11, 22, 33] greater than 10.',\n",
       " \"earliest_cr_line has 26 values [Timestamp('2050-12-01 00:00:00'), Timestamp('2056-09-01 00:00:00'), Timestamp('2059-06-01 00:00:00'), Timestamp('2062-09-01 00:00:00'), Timestamp('2063-01-01 00:00:00'), Timestamp('2063-09-01 00:00:00'), Timestamp('2064-09-01 00:00:00'), Timestamp('2064-10-01 00:00:00'), Timestamp('2065-05-01 00:00:00'), Timestamp('2065-09-01 00:00:00'), Timestamp('2066-06-01 00:00:00'), Timestamp('2066-12-01 00:00:00'), Timestamp('2067-04-01 00:00:00'), Timestamp('2067-06-01 00:00:00'), Timestamp('2067-07-01 00:00:00'), Timestamp('2067-09-01 00:00:00'), Timestamp('2067-11-01 00:00:00'), Timestamp('2068-01-01 00:00:00'), Timestamp('2068-08-01 00:00:00'), Timestamp('2068-09-01 00:00:00'), Timestamp('2068-12-01 00:00:00')] greater than 2008-11-02 00:00:00.\",\n",
       " 'revol_util has 1 values [100.6] greater than 100.']"
      ]
     },
     "execution_count": 15,
     "metadata": {},
     "output_type": "execute_result"
    }
   ],
   "source": [
    "def check_against_schema(df: pd.DataFrame, schema_df: pd.DataFrame):\n",
    "    issues = []\n",
    "\n",
    "    for _, row in df_schema_validation.iterrows():\n",
    "        col = row['column']\n",
    "        unique_min = row['unique_min']\n",
    "        unique_max = row['unique_max']\n",
    "        min_allowed = row['min_allowed']\n",
    "        max_allowed = row['max_allowed']\n",
    "        allowed_values = row['allowed_values']\n",
    "        \n",
    "        if col in df_raw.columns:            \n",
    "            \n",
    "            #unique min\n",
    "            if unique_min != \"na\":\n",
    "                unique_count = df_raw[col].nunique()\n",
    "                if unique_count < int(unique_min):\n",
    "                    issues.append(f\"{col} has a unique count {unique_count} less than minimum {unique_min}.\")\n",
    "\n",
    "            #unique max\n",
    "            if unique_max != \"na\":\n",
    "                unique_count = df_raw[col].nunique()\n",
    "                if unique_count > int(unique_max):\n",
    "                    issues.append(f\"{col} has a unique count {unique_count} greater than maximum {unique_max}.\")\n",
    "\n",
    "            #allowed numerical values``\n",
    "            if df_raw[col].dtype.name in [\"Int64\", \"float64\"]:\n",
    "                if min_allowed != \"na\":\n",
    "                    min_value = df_raw[col].min()\n",
    "                    unallowed = df_raw[col][df_raw[col] < int(min_allowed)]\n",
    "                    if not unallowed.empty:\n",
    "                        issues.append(f\"{col} has {len(unallowed)} values {sorted(set(unallowed.tolist()))} less than {min_allowed}.\")\n",
    "\n",
    "                if max_allowed != \"na\":\n",
    "                    max_value = df_raw[col].max()\n",
    "                    unallowed = df_raw[col][df_raw[col] > int(max_allowed)]\n",
    "                    if not unallowed.empty:\n",
    "                        issues.append(f\"{col} has {len(unallowed)} values {sorted(set(unallowed.tolist()))} greater than {max_allowed}.\")\n",
    "\n",
    "            #allowed date values\n",
    "            if df_raw[col].dtype.name == \"datetime64[ns]\":\n",
    "                if min_allowed != \"na\":\n",
    "                    min_allowed = pd.to_datetime(min_allowed, format=\"%Y%m%d\")\n",
    "                    unallowed = df_raw[col][df_raw[col] < min_allowed]\n",
    "                    if not unallowed.empty:\n",
    "                        issues.append(f\"{col} has {len(unallowed)} values {sorted(set(unallowed.tolist()))} less than {min_allowed}.\")\n",
    "\n",
    "                if max_allowed != \"na\":\n",
    "                    max_allowed = pd.to_datetime(max_allowed, format=\"%Y%m%d\")\n",
    "                    unallowed = df_raw[col][df_raw[col] > max_allowed]                    \n",
    "                    if not unallowed.empty:\n",
    "                        issues.append(f\"{col} has {len(unallowed)} values {sorted(set(unallowed.tolist()))} greater than {max_allowed}.\")\n",
    "\n",
    "            #allowed categorical values\n",
    "            if allowed_values != \"na\" and df_raw[col].dtype.name == \"object\":\n",
    "                allowed_set = set(allowed_values.split(\",\"))\n",
    "                actual_set = set(df_raw[col].dropna().unique())\n",
    "                disallowed = list(actual_set - allowed_set)\n",
    "                if disallowed:\n",
    "                    issues.append(f\"{col} has disallowed values: {disallowed}.\")\n",
    "\n",
    "    return issues\n",
    "\n",
    "check_against_schema(df_raw, df_schema_validation)"
   ]
  },
  {
   "cell_type": "markdown",
   "id": "fbd15cb9",
   "metadata": {},
   "source": [
    "# Fix columns with specific data range problems"
   ]
  },
  {
   "cell_type": "markdown",
   "id": "af407221",
   "metadata": {},
   "source": [
    "### fixing \"emp_length\""
   ]
  },
  {
   "cell_type": "code",
   "execution_count": 16,
   "id": "e1aaf030",
   "metadata": {},
   "outputs": [
    {
     "name": "stdout",
     "output_type": "stream",
     "text": [
      "Rows with emp_length issues: 8\n",
      "Number of positive is_bad values in rows_with_emp_length_issues: 8\n",
      "Total number of positive is_bad values in full dataset: 1295\n",
      "Percentage of rows_with_emp_length_issues against total positive values: 0.62%\n"
     ]
    }
   ],
   "source": [
    "rows_with_emp_length_issues = df_raw[df_raw[\"emp_length\"].isin([11,22,33])]\n",
    "print(f\"Rows with emp_length issues: {len(rows_with_emp_length_issues)}\")\n",
    "print(f\"Number of positive is_bad values in rows_with_emp_length_issues: {rows_with_emp_length_issues['is_bad'].sum()}\")\n",
    "print(f\"Total number of positive is_bad values in full dataset: {df_raw['is_bad'].sum()}\")\n",
    "print(f\"Percentage of rows_with_emp_length_issues against total positive values: {rows_with_emp_length_issues['is_bad'].sum() / df_raw['is_bad'].sum() * 100:.2f}%\")"
   ]
  },
  {
   "cell_type": "markdown",
   "id": "32ab62b3",
   "metadata": {},
   "source": [
    "Why are all error values in emp_length associated with positive values?\n",
    "\n",
    "a) intentional as part of exercise\n",
    "\n",
    "b) mis-entered\n",
    "\n",
    "<br>\n",
    "Options\n",
    "1) drop rows with these values\n",
    "2) create one category of these values"
   ]
  },
  {
   "cell_type": "markdown",
   "id": "fda4ff96",
   "metadata": {},
   "source": [
    "### fixing \"earliest_cr_line\""
   ]
  },
  {
   "cell_type": "code",
   "execution_count": 17,
   "id": "f6ea0802",
   "metadata": {},
   "outputs": [
    {
     "data": {
      "text/plain": [
       "<Axes: >"
      ]
     },
     "execution_count": 17,
     "metadata": {},
     "output_type": "execute_result"
    },
    {
     "data": {
      "image/png": "[encoded data removed]",
      "text/plain": [
       "<Figure size 300x150 with 1 Axes>"
      ]
     },
     "metadata": {},
     "output_type": "display_data"
    }
   ],
   "source": [
    "df_raw[\"earliest_cr_line\"].hist(bins=30, figsize=(3, 1.5))"
   ]
  },
  {
   "cell_type": "code",
   "execution_count": 18,
   "id": "ae27c17a",
   "metadata": {},
   "outputs": [
    {
     "data": {
      "text/plain": [
       "<Axes: >"
      ]
     },
     "execution_count": 18,
     "metadata": {},
     "output_type": "execute_result"
    },
    {
     "data": {
      "image/png": "[encoded data removed]",
      "text/plain": [
       "<Figure size 300x150 with 1 Axes>"
      ]
     },
     "metadata": {},
     "output_type": "display_data"
    }
   ],
   "source": [
    "dates = pd.to_datetime(df_raw[\"earliest_cr_line\"], format=\"%m/%d/%y\", errors=\"coerce\")\n",
    "cutoff = pd.Timestamp(df_schema_validation.loc[df_schema_validation['column'] == \"earliest_cr_line\", 'max_allowed'].values[0])\n",
    "dates = dates.where(dates < cutoff, dates - pd.DateOffset(years=100))\n",
    "df_raw[\"earliest_cr_line\"] = dates\n",
    "df_raw[\"earliest_cr_line\"].hist(bins=30, figsize=(3, 1.5))"
   ]
  },
  {
   "cell_type": "markdown",
   "id": "104e9bbf",
   "metadata": {},
   "source": [
    "### fixing \"revol_util\"\n",
    "\n",
    "\"revol_util\" only has one out of range value which could likely be valid. Leave unchanged"
   ]
  },
  {
   "cell_type": "markdown",
   "id": "efbf28aa",
   "metadata": {},
   "source": [
    "# Pre-split EDA"
   ]
  },
  {
   "cell_type": "code",
   "execution_count": 19,
   "id": "d66f1aab",
   "metadata": {},
   "outputs": [],
   "source": [
    "def summarize_near_constant_features(\n",
    "    df: pd.DataFrame,\n",
    "    *,\n",
    "    dominant_thresh: float = 0.98,   # flag if top value covers ≥ this fraction of non-null values\n",
    "    max_unique_for_flag: int | None = None,  # optionally also require unique values ≤ this number\n",
    "    min_non_null: int = 5,           # skip columns with too few non-nulls\n",
    "    treat_bool_as_categorical: bool = True\n",
    ") -> pd.DataFrame:\n",
    "    \"\"\"\n",
    "    Analyze columns for 'near-constant' behavior and return a summary DataFrame.\n",
    "\n",
    "    Columns are flagged when the dominant (most frequent) value's share among non-null values\n",
    "    is ≥ dominant_thresh. Optionally (if max_unique_for_flag is set), we also require that the\n",
    "    number of unique non-null values ≤ max_unique_for_flag.\n",
    "\n",
    "    Parameters\n",
    "    ----------\n",
    "    df : pd.DataFrame\n",
    "        Input data.\n",
    "    dominant_thresh : float, default 0.98\n",
    "        Threshold for dominant value proportion to flag near-constant.\n",
    "    max_unique_for_flag : int or None, default None\n",
    "        If set, near-constant flag additionally requires unique_count ≤ this.\n",
    "        (E.g., set to 2 to flag only nearly-all-0/1 columns.)\n",
    "    min_non_null : int, default 5\n",
    "        Skip columns with fewer than this many non-null observations.\n",
    "    treat_bool_as_categorical : bool, default True\n",
    "        If True, boolean columns are summarized as categoricals.\n",
    "\n",
    "    Returns\n",
    "    -------\n",
    "    pd.DataFrame\n",
    "        Columns:\n",
    "        - column\n",
    "        - dtype\n",
    "        - non_null_count\n",
    "        - missing_rate\n",
    "        - unique_count\n",
    "        - dominant_value\n",
    "        - dominant_count\n",
    "        - dominant_share\n",
    "        - minority_count\n",
    "        - variance (numeric only; else NaN)\n",
    "        - std (numeric only; else NaN)\n",
    "        - min_value (numeric only; else NaN)\n",
    "        - max_value (numeric only; else NaN)\n",
    "        - entropy_bits (Shannon entropy base-2 on value distribution)\n",
    "        - is_binary_like (unique_count == 2)\n",
    "        - near_constant_flag (boolean)\n",
    "        - top_5_values (string formatted \"value:count; …\")\n",
    "    \"\"\"\n",
    "    summaries = []\n",
    "\n",
    "    for col in df.columns:\n",
    "        s = df[col]\n",
    "        non_null = s.dropna()\n",
    "        non_null_count = int(non_null.shape[0])\n",
    "        missing_rate = (1.0 - (non_null_count / max(1, s.shape[0])))*100\n",
    "\n",
    "        # Handle dtype classification early so branches can use it\n",
    "        is_bool = pd.api.types.is_bool_dtype(s)\n",
    "        is_numeric = pd.api.types.is_numeric_dtype(s) and not (is_bool and treat_bool_as_categorical)\n",
    "\n",
    "        # Precompute min/max for numeric columns\n",
    "        if is_numeric and non_null_count > 0:\n",
    "            try:\n",
    "                min_value = float(non_null.astype(float).min())\n",
    "                max_value = float(non_null.astype(float).max())\n",
    "            except Exception:\n",
    "                # Fallback in case of mixed numeric types that fail astype(float)\n",
    "                min_value = float(pd.to_numeric(non_null, errors='coerce').min())\n",
    "                max_value = float(pd.to_numeric(non_null, errors='coerce').max())\n",
    "        else:\n",
    "            min_value = np.nan\n",
    "            max_value = np.nan\n",
    "\n",
    "        # # Top-5 most common values (include NaN label consistent with helper)\n",
    "        # try:\n",
    "        #     top5_vals = top5_summary(s)\n",
    "        # except Exception:\n",
    "        #     # If helper not available for any reason, compute a simple fallback\n",
    "        vc_tmp = s.value_counts(dropna=False).head(5)\n",
    "        def _fmt(v):\n",
    "            if pd.isna(v):\n",
    "                return 'NaN'\n",
    "            txt = str(v)\n",
    "            return (txt[:60] + '…') if len(txt) > 60 else txt\n",
    "        top5_vals = \"; \".join([f\"{_fmt(idx)}:{int(cnt)}\" for idx, cnt in vc_tmp.items()])\n",
    "\n",
    "        if non_null_count < min_non_null:\n",
    "            # Not enough data to assess; still record info\n",
    "            summaries.append({\n",
    "                \"column\": col,\n",
    "                \"dtype\": s.dtype.name,\n",
    "                \"non_null_count\": non_null_count,\n",
    "                \"missing_rate%\": missing_rate,\n",
    "                \"unique_count\": non_null.nunique(dropna=True),\n",
    "                \"min_value\": min_value,\n",
    "                \"max_value\": max_value,\n",
    "                \"dominant_value\": np.nan,\n",
    "                \"dominant_count\": 0,\n",
    "                \"dominant_share\": np.nan,\n",
    "                \"minority_count\": 0,\n",
    "                \"variance\": np.nan,\n",
    "                \"std\": np.nan,\n",
    "                \"entropy_bits\": np.nan,\n",
    "                \"is_binary_like\": False,\n",
    "                \"near_constant_flag\": False,\n",
    "                \"top_5_values\": top5_vals,\n",
    "            })\n",
    "            continue\n",
    "\n",
    "        # Value counts for frequencies\n",
    "        vc = non_null.value_counts(dropna=False)\n",
    "        dominant_value = vc.index[0]\n",
    "        dominant_count = int(vc.iloc[0])\n",
    "        unique_count = int(vc.shape[0])\n",
    "        dominant_share = dominant_count / non_null_count\n",
    "        minority_count = non_null_count - dominant_count\n",
    "\n",
    "        # Entropy (base-2)\n",
    "        probs = (vc / non_null_count).to_numpy()\n",
    "        entropy_bits = float(-np.sum(probs * np.log2(probs))) if unique_count > 1 else 0.0\n",
    "\n",
    "        # Numeric variance/std if applicable\n",
    "        if is_numeric:\n",
    "            variance = float(non_null.astype(float).var(ddof=1)) if non_null_count > 1 else 0.0\n",
    "            std = float(np.sqrt(variance))\n",
    "        else:\n",
    "            variance = np.nan\n",
    "            std = np.nan\n",
    "\n",
    "        # Binary-like flag\n",
    "        is_binary_like = (unique_count == 2)\n",
    "\n",
    "        # Near-constant logic\n",
    "        meets_share = dominant_share >= dominant_thresh\n",
    "        meets_unique = True if max_unique_for_flag is None else (unique_count <= max_unique_for_flag)\n",
    "        near_constant_flag = bool(meets_share and meets_unique)\n",
    "\n",
    "        summaries.append({\n",
    "            \"column\": col,\n",
    "            \"dtype\": s.dtype.name,\n",
    "            \"non_null_count\": non_null_count,\n",
    "            \"missing_rate%\": missing_rate,\n",
    "            \"unique_count\": unique_count,\n",
    "            \"min_value\": min_value,\n",
    "            \"max_value\": max_value,\n",
    "            \"dominant_value\": dominant_value,\n",
    "            \"dominant_count\": dominant_count,\n",
    "            \"dominant_share\": dominant_share,\n",
    "            \"minority_count\": minority_count,\n",
    "            \"variance\": variance,\n",
    "            \"std\": std,\n",
    "            \"entropy_bits\": entropy_bits,\n",
    "            \"is_binary_like\": is_binary_like,\n",
    "            \"near_constant_flag\": near_constant_flag,\n",
    "            \"top_5_values\": top5_vals,\n",
    "        })\n",
    "\n",
    "    out = pd.DataFrame(summaries)\n",
    "    # Order: flags first, then by dominant_share desc, then low entropy\n",
    "    # out = out.sort_values(\n",
    "    #     by=[\"near_constant_flag\", \"dominant_share\", \"entropy_bits\"],\n",
    "    #     ascending=[False, False, True],\n",
    "    #     kind=\"mergesort\"\n",
    "    # ).reset_index(drop=True)\n",
    "    return out\n",
    "\n",
    "# Recompute summary with new columns\n",
    "df_summary = summarize_near_constant_features(df_raw)"
   ]
  },
  {
   "cell_type": "code",
   "execution_count": 20,
   "id": "036c820b",
   "metadata": {},
   "outputs": [
    {
     "data": {
      "text/html": [
       "<div>\n",
       "<style scoped>\n",
       "    .dataframe tbody tr th:only-of-type {\n",
       "        vertical-align: middle;\n",
       "    }\n",
       "\n",
       "    .dataframe tbody tr th {\n",
       "        vertical-align: top;\n",
       "    }\n",
       "\n",
       "    .dataframe thead th {\n",
       "        text-align: right;\n",
       "    }\n",
       "</style>\n",
       "<table border=\"1\" class=\"dataframe\">\n",
       "  <thead>\n",
       "    <tr style=\"text-align: right;\">\n",
       "      <th></th>\n",
       "      <th>column</th>\n",
       "      <th>dtype</th>\n",
       "      <th>missing_rate%</th>\n",
       "      <th>unique_count</th>\n",
       "      <th>min_value</th>\n",
       "      <th>max_value</th>\n",
       "      <th>dominant_value</th>\n",
       "      <th>dominant_share</th>\n",
       "      <th>variance</th>\n",
       "      <th>std</th>\n",
       "      <th>near_constant_flag</th>\n",
       "      <th>top_5_values</th>\n",
       "    </tr>\n",
       "  </thead>\n",
       "  <tbody>\n",
       "    <tr>\n",
       "      <th>0</th>\n",
       "      <td>Id</td>\n",
       "      <td>Int64</td>\n",
       "      <td>0.00</td>\n",
       "      <td>10000</td>\n",
       "      <td>1.0</td>\n",
       "      <td>10000.00</td>\n",
       "      <td>1</td>\n",
       "      <td>0.000100</td>\n",
       "      <td>8.334167e+06</td>\n",
       "      <td>2886.895680</td>\n",
       "      <td>False</td>\n",
       "      <td>1:1; 6671:1; 6664:1; 6665:1; 6666:1</td>\n",
       "    </tr>\n",
       "    <tr>\n",
       "      <th>1</th>\n",
       "      <td>is_bad</td>\n",
       "      <td>Int64</td>\n",
       "      <td>0.00</td>\n",
       "      <td>2</td>\n",
       "      <td>0.0</td>\n",
       "      <td>1.00</td>\n",
       "      <td>0</td>\n",
       "      <td>0.870500</td>\n",
       "      <td>1.127410e-01</td>\n",
       "      <td>0.335769</td>\n",
       "      <td>False</td>\n",
       "      <td>0:8705; 1:1295</td>\n",
       "    </tr>\n",
       "    <tr>\n",
       "      <th>2</th>\n",
       "      <td>emp_title</td>\n",
       "      <td>object</td>\n",
       "      <td>5.92</td>\n",
       "      <td>8183</td>\n",
       "      <td>NaN</td>\n",
       "      <td>NaN</td>\n",
       "      <td>US Army</td>\n",
       "      <td>0.003933</td>\n",
       "      <td>NaN</td>\n",
       "      <td>NaN</td>\n",
       "      <td>False</td>\n",
       "      <td>NaN:592; US Army:37; Bank of America:23; IBM:2...</td>\n",
       "    </tr>\n",
       "    <tr>\n",
       "      <th>3</th>\n",
       "      <td>emp_length</td>\n",
       "      <td>Int64</td>\n",
       "      <td>2.50</td>\n",
       "      <td>13</td>\n",
       "      <td>1.0</td>\n",
       "      <td>33.00</td>\n",
       "      <td>10</td>\n",
       "      <td>0.221538</td>\n",
       "      <td>1.188612e+01</td>\n",
       "      <td>3.447625</td>\n",
       "      <td>False</td>\n",
       "      <td>10:2160; 1:2083; 2:1183; 3:1010; 4:889</td>\n",
       "    </tr>\n",
       "    <tr>\n",
       "      <th>4</th>\n",
       "      <td>home_ownership</td>\n",
       "      <td>object</td>\n",
       "      <td>0.00</td>\n",
       "      <td>5</td>\n",
       "      <td>NaN</td>\n",
       "      <td>NaN</td>\n",
       "      <td>RENT</td>\n",
       "      <td>0.474500</td>\n",
       "      <td>NaN</td>\n",
       "      <td>NaN</td>\n",
       "      <td>False</td>\n",
       "      <td>RENT:4745; MORTGAGE:4445; OWN:775; OTHER:34; N...</td>\n",
       "    </tr>\n",
       "    <tr>\n",
       "      <th>5</th>\n",
       "      <td>annual_inc</td>\n",
       "      <td>float64</td>\n",
       "      <td>0.01</td>\n",
       "      <td>1901</td>\n",
       "      <td>2000.0</td>\n",
       "      <td>900000.00</td>\n",
       "      <td>60000.0</td>\n",
       "      <td>0.038104</td>\n",
       "      <td>2.361013e+09</td>\n",
       "      <td>48590.252757</td>\n",
       "      <td>False</td>\n",
       "      <td>60000.0:381; 50000.0:267; 40000.0:222; 75000.0...</td>\n",
       "    </tr>\n",
       "    <tr>\n",
       "      <th>6</th>\n",
       "      <td>verification_status</td>\n",
       "      <td>object</td>\n",
       "      <td>0.00</td>\n",
       "      <td>3</td>\n",
       "      <td>NaN</td>\n",
       "      <td>NaN</td>\n",
       "      <td>not verified</td>\n",
       "      <td>0.436700</td>\n",
       "      <td>NaN</td>\n",
       "      <td>NaN</td>\n",
       "      <td>False</td>\n",
       "      <td>not verified:4367; VERIFIED - income:3214; VER...</td>\n",
       "    </tr>\n",
       "    <tr>\n",
       "      <th>7</th>\n",
       "      <td>pymnt_plan</td>\n",
       "      <td>object</td>\n",
       "      <td>0.00</td>\n",
       "      <td>2</td>\n",
       "      <td>NaN</td>\n",
       "      <td>NaN</td>\n",
       "      <td>n</td>\n",
       "      <td>0.999800</td>\n",
       "      <td>NaN</td>\n",
       "      <td>NaN</td>\n",
       "      <td>True</td>\n",
       "      <td>n:9998; y:2</td>\n",
       "    </tr>\n",
       "    <tr>\n",
       "      <th>8</th>\n",
       "      <td>Notes</td>\n",
       "      <td>object</td>\n",
       "      <td>32.31</td>\n",
       "      <td>6760</td>\n",
       "      <td>NaN</td>\n",
       "      <td>NaN</td>\n",
       "      <td>Debt Consolidation</td>\n",
       "      <td>0.000443</td>\n",
       "      <td>NaN</td>\n",
       "      <td>NaN</td>\n",
       "      <td>False</td>\n",
       "      <td>NaN:3231; Personal Loan:3; Debt Consolidation:...</td>\n",
       "    </tr>\n",
       "    <tr>\n",
       "      <th>9</th>\n",
       "      <td>purpose_cat</td>\n",
       "      <td>object</td>\n",
       "      <td>0.00</td>\n",
       "      <td>27</td>\n",
       "      <td>NaN</td>\n",
       "      <td>NaN</td>\n",
       "      <td>debt consolidation</td>\n",
       "      <td>0.445400</td>\n",
       "      <td>NaN</td>\n",
       "      <td>NaN</td>\n",
       "      <td>False</td>\n",
       "      <td>debt consolidation:4454; credit card:1273; oth...</td>\n",
       "    </tr>\n",
       "    <tr>\n",
       "      <th>10</th>\n",
       "      <td>purpose</td>\n",
       "      <td>object</td>\n",
       "      <td>0.04</td>\n",
       "      <td>5677</td>\n",
       "      <td>NaN</td>\n",
       "      <td>NaN</td>\n",
       "      <td>Debt Consolidation</td>\n",
       "      <td>0.054822</td>\n",
       "      <td>NaN</td>\n",
       "      <td>NaN</td>\n",
       "      <td>False</td>\n",
       "      <td>Debt Consolidation:548; Debt Consolidation Loa...</td>\n",
       "    </tr>\n",
       "    <tr>\n",
       "      <th>11</th>\n",
       "      <td>zip_code</td>\n",
       "      <td>object</td>\n",
       "      <td>0.00</td>\n",
       "      <td>720</td>\n",
       "      <td>NaN</td>\n",
       "      <td>NaN</td>\n",
       "      <td>100xx</td>\n",
       "      <td>0.015800</td>\n",
       "      <td>NaN</td>\n",
       "      <td>NaN</td>\n",
       "      <td>False</td>\n",
       "      <td>100xx:158; 112xx:141; 945xx:129; 070xx:125; 60...</td>\n",
       "    </tr>\n",
       "    <tr>\n",
       "      <th>12</th>\n",
       "      <td>addr_state</td>\n",
       "      <td>object</td>\n",
       "      <td>0.00</td>\n",
       "      <td>50</td>\n",
       "      <td>NaN</td>\n",
       "      <td>NaN</td>\n",
       "      <td>CA</td>\n",
       "      <td>0.174800</td>\n",
       "      <td>NaN</td>\n",
       "      <td>NaN</td>\n",
       "      <td>False</td>\n",
       "      <td>CA:1748; NY:958; FL:714; TX:700; NJ:482</td>\n",
       "    </tr>\n",
       "    <tr>\n",
       "      <th>13</th>\n",
       "      <td>debt_to_income</td>\n",
       "      <td>float64</td>\n",
       "      <td>0.00</td>\n",
       "      <td>2585</td>\n",
       "      <td>0.0</td>\n",
       "      <td>29.99</td>\n",
       "      <td>0.0</td>\n",
       "      <td>0.005800</td>\n",
       "      <td>4.561937e+01</td>\n",
       "      <td>6.754212</td>\n",
       "      <td>False</td>\n",
       "      <td>0.0:58; 12.48:16; 10.0:13; 13.51:13; 18.14:13</td>\n",
       "    </tr>\n",
       "    <tr>\n",
       "      <th>14</th>\n",
       "      <td>delinq_2yrs</td>\n",
       "      <td>Int64</td>\n",
       "      <td>0.05</td>\n",
       "      <td>10</td>\n",
       "      <td>0.0</td>\n",
       "      <td>11.00</td>\n",
       "      <td>0</td>\n",
       "      <td>0.891446</td>\n",
       "      <td>2.563092e-01</td>\n",
       "      <td>0.506270</td>\n",
       "      <td>False</td>\n",
       "      <td>0:8910; 1:822; 2:186; 3:50; 4:14</td>\n",
       "    </tr>\n",
       "    <tr>\n",
       "      <th>15</th>\n",
       "      <td>earliest_cr_line</td>\n",
       "      <td>datetime64[ns]</td>\n",
       "      <td>0.05</td>\n",
       "      <td>463</td>\n",
       "      <td>NaN</td>\n",
       "      <td>NaN</td>\n",
       "      <td>2000-11-01 00:00:00</td>\n",
       "      <td>0.009505</td>\n",
       "      <td>NaN</td>\n",
       "      <td>NaN</td>\n",
       "      <td>False</td>\n",
       "      <td>1998-11-01 00:00:00:95; 2000-11-01 00:00:00:95...</td>\n",
       "    </tr>\n",
       "    <tr>\n",
       "      <th>16</th>\n",
       "      <td>inq_last_6mths</td>\n",
       "      <td>Int64</td>\n",
       "      <td>0.05</td>\n",
       "      <td>20</td>\n",
       "      <td>0.0</td>\n",
       "      <td>25.00</td>\n",
       "      <td>0</td>\n",
       "      <td>0.460430</td>\n",
       "      <td>2.178729e+00</td>\n",
       "      <td>1.476052</td>\n",
       "      <td>False</td>\n",
       "      <td>0:4602; 1:2684; 2:1431; 3:731; 4:227</td>\n",
       "    </tr>\n",
       "    <tr>\n",
       "      <th>17</th>\n",
       "      <td>mths_since_last_delinq</td>\n",
       "      <td>Int64</td>\n",
       "      <td>63.16</td>\n",
       "      <td>91</td>\n",
       "      <td>0.0</td>\n",
       "      <td>120.00</td>\n",
       "      <td>0</td>\n",
       "      <td>0.044245</td>\n",
       "      <td>5.000341e+02</td>\n",
       "      <td>22.361443</td>\n",
       "      <td>False</td>\n",
       "      <td>NaN:6316; 0:163; 30:69; 34:66; 23:65</td>\n",
       "    </tr>\n",
       "    <tr>\n",
       "      <th>18</th>\n",
       "      <td>mths_since_last_record</td>\n",
       "      <td>Int64</td>\n",
       "      <td>91.60</td>\n",
       "      <td>94</td>\n",
       "      <td>0.0</td>\n",
       "      <td>119.00</td>\n",
       "      <td>0</td>\n",
       "      <td>0.317857</td>\n",
       "      <td>2.133481e+03</td>\n",
       "      <td>46.189619</td>\n",
       "      <td>False</td>\n",
       "      <td>NaN:9160; 0:267; 89:21; 116:18; 92:17</td>\n",
       "    </tr>\n",
       "    <tr>\n",
       "      <th>19</th>\n",
       "      <td>open_acc</td>\n",
       "      <td>Int64</td>\n",
       "      <td>0.05</td>\n",
       "      <td>36</td>\n",
       "      <td>1.0</td>\n",
       "      <td>39.00</td>\n",
       "      <td>7</td>\n",
       "      <td>0.103552</td>\n",
       "      <td>2.049001e+01</td>\n",
       "      <td>4.526590</td>\n",
       "      <td>False</td>\n",
       "      <td>7:1035; 6:990; 8:937; 9:929; 10:805</td>\n",
       "    </tr>\n",
       "    <tr>\n",
       "      <th>20</th>\n",
       "      <td>pub_rec</td>\n",
       "      <td>Int64</td>\n",
       "      <td>0.05</td>\n",
       "      <td>4</td>\n",
       "      <td>0.0</td>\n",
       "      <td>3.00</td>\n",
       "      <td>0</td>\n",
       "      <td>0.942671</td>\n",
       "      <td>6.312406e-02</td>\n",
       "      <td>0.251245</td>\n",
       "      <td>False</td>\n",
       "      <td>0:9422; 1:550; 2:18; 3:5; NaN:5</td>\n",
       "    </tr>\n",
       "    <tr>\n",
       "      <th>21</th>\n",
       "      <td>revol_bal</td>\n",
       "      <td>Int64</td>\n",
       "      <td>0.00</td>\n",
       "      <td>8130</td>\n",
       "      <td>0.0</td>\n",
       "      <td>1207359.00</td>\n",
       "      <td>0</td>\n",
       "      <td>0.027800</td>\n",
       "      <td>6.470872e+08</td>\n",
       "      <td>25437.908202</td>\n",
       "      <td>False</td>\n",
       "      <td>0:278; 2227:6; 1763:6; 4801:5; 11628:5</td>\n",
       "    </tr>\n",
       "    <tr>\n",
       "      <th>22</th>\n",
       "      <td>revol_util</td>\n",
       "      <td>float64</td>\n",
       "      <td>0.26</td>\n",
       "      <td>1027</td>\n",
       "      <td>0.0</td>\n",
       "      <td>100.60</td>\n",
       "      <td>0.0</td>\n",
       "      <td>0.025466</td>\n",
       "      <td>7.963999e+02</td>\n",
       "      <td>28.220557</td>\n",
       "      <td>False</td>\n",
       "      <td>0.0:254; NaN:26; 46.6:21; 0.1:20; 43.4:20</td>\n",
       "    </tr>\n",
       "    <tr>\n",
       "      <th>23</th>\n",
       "      <td>total_acc</td>\n",
       "      <td>Int64</td>\n",
       "      <td>0.05</td>\n",
       "      <td>75</td>\n",
       "      <td>1.0</td>\n",
       "      <td>90.00</td>\n",
       "      <td>15</td>\n",
       "      <td>0.036918</td>\n",
       "      <td>1.371100e+02</td>\n",
       "      <td>11.709400</td>\n",
       "      <td>False</td>\n",
       "      <td>15:369; 20:360; 17:360; 12:357; 14:351</td>\n",
       "    </tr>\n",
       "    <tr>\n",
       "      <th>24</th>\n",
       "      <td>initial_list_status</td>\n",
       "      <td>object</td>\n",
       "      <td>0.00</td>\n",
       "      <td>2</td>\n",
       "      <td>NaN</td>\n",
       "      <td>NaN</td>\n",
       "      <td>f</td>\n",
       "      <td>0.998300</td>\n",
       "      <td>NaN</td>\n",
       "      <td>NaN</td>\n",
       "      <td>True</td>\n",
       "      <td>f:9983; m:17</td>\n",
       "    </tr>\n",
       "    <tr>\n",
       "      <th>25</th>\n",
       "      <td>collections_12_mths_ex_med</td>\n",
       "      <td>Int64</td>\n",
       "      <td>0.32</td>\n",
       "      <td>1</td>\n",
       "      <td>0.0</td>\n",
       "      <td>0.00</td>\n",
       "      <td>0</td>\n",
       "      <td>1.000000</td>\n",
       "      <td>0.000000e+00</td>\n",
       "      <td>0.000000</td>\n",
       "      <td>True</td>\n",
       "      <td>0:9968; NaN:32</td>\n",
       "    </tr>\n",
       "    <tr>\n",
       "      <th>26</th>\n",
       "      <td>mths_since_last_major_derog</td>\n",
       "      <td>Int64</td>\n",
       "      <td>0.00</td>\n",
       "      <td>3</td>\n",
       "      <td>1.0</td>\n",
       "      <td>3.00</td>\n",
       "      <td>2</td>\n",
       "      <td>0.342400</td>\n",
       "      <td>6.576609e-01</td>\n",
       "      <td>0.810963</td>\n",
       "      <td>False</td>\n",
       "      <td>2:3424; 3:3299; 1:3277</td>\n",
       "    </tr>\n",
       "    <tr>\n",
       "      <th>27</th>\n",
       "      <td>policy_code</td>\n",
       "      <td>object</td>\n",
       "      <td>0.00</td>\n",
       "      <td>5</td>\n",
       "      <td>NaN</td>\n",
       "      <td>NaN</td>\n",
       "      <td>PC3</td>\n",
       "      <td>0.209800</td>\n",
       "      <td>NaN</td>\n",
       "      <td>NaN</td>\n",
       "      <td>False</td>\n",
       "      <td>PC3:2098; PC5:2025; PC1:1978; PC2:1962; PC4:1937</td>\n",
       "    </tr>\n",
       "  </tbody>\n",
       "</table>\n",
       "</div>"
      ],
      "text/plain": [
       "                         column           dtype  missing_rate%  unique_count  min_value   max_value       dominant_value  dominant_share      variance  \\\n",
       "0                            Id           Int64           0.00         10000        1.0    10000.00                    1        0.000100  8.334167e+06   \n",
       "1                        is_bad           Int64           0.00             2        0.0        1.00                    0        0.870500  1.127410e-01   \n",
       "2                     emp_title          object           5.92          8183        NaN         NaN              US Army        0.003933           NaN   \n",
       "3                    emp_length           Int64           2.50            13        1.0       33.00                   10        0.221538  1.188612e+01   \n",
       "4                home_ownership          object           0.00             5        NaN         NaN                 RENT        0.474500           NaN   \n",
       "5                    annual_inc         float64           0.01          1901     2000.0   900000.00              60000.0        0.038104  2.361013e+09   \n",
       "6           verification_status          object           0.00             3        NaN         NaN         not verified        0.436700           NaN   \n",
       "7                    pymnt_plan          object           0.00             2        NaN         NaN                    n        0.999800           NaN   \n",
       "8                         Notes          object          32.31          6760        NaN         NaN   Debt Consolidation        0.000443           NaN   \n",
       "9                   purpose_cat          object           0.00            27        NaN         NaN   debt consolidation        0.445400           NaN   \n",
       "10                      purpose          object           0.04          5677        NaN         NaN   Debt Consolidation        0.054822           NaN   \n",
       "11                     zip_code          object           0.00           720        NaN         NaN                100xx        0.015800           NaN   \n",
       "12                   addr_state          object           0.00            50        NaN         NaN                   CA        0.174800           NaN   \n",
       "13               debt_to_income         float64           0.00          2585        0.0       29.99                  0.0        0.005800  4.561937e+01   \n",
       "14                  delinq_2yrs           Int64           0.05            10        0.0       11.00                    0        0.891446  2.563092e-01   \n",
       "15             earliest_cr_line  datetime64[ns]           0.05           463        NaN         NaN  2000-11-01 00:00:00        0.009505           NaN   \n",
       "16               inq_last_6mths           Int64           0.05            20        0.0       25.00                    0        0.460430  2.178729e+00   \n",
       "17       mths_since_last_delinq           Int64          63.16            91        0.0      120.00                    0        0.044245  5.000341e+02   \n",
       "18       mths_since_last_record           Int64          91.60            94        0.0      119.00                    0        0.317857  2.133481e+03   \n",
       "19                     open_acc           Int64           0.05            36        1.0       39.00                    7        0.103552  2.049001e+01   \n",
       "20                      pub_rec           Int64           0.05             4        0.0        3.00                    0        0.942671  6.312406e-02   \n",
       "21                    revol_bal           Int64           0.00          8130        0.0  1207359.00                    0        0.027800  6.470872e+08   \n",
       "22                   revol_util         float64           0.26          1027        0.0      100.60                  0.0        0.025466  7.963999e+02   \n",
       "23                    total_acc           Int64           0.05            75        1.0       90.00                   15        0.036918  1.371100e+02   \n",
       "24          initial_list_status          object           0.00             2        NaN         NaN                    f        0.998300           NaN   \n",
       "25   collections_12_mths_ex_med           Int64           0.32             1        0.0        0.00                    0        1.000000  0.000000e+00   \n",
       "26  mths_since_last_major_derog           Int64           0.00             3        1.0        3.00                    2        0.342400  6.576609e-01   \n",
       "27                  policy_code          object           0.00             5        NaN         NaN                  PC3        0.209800           NaN   \n",
       "\n",
       "             std  near_constant_flag                                       top_5_values  \n",
       "0    2886.895680               False                1:1; 6671:1; 6664:1; 6665:1; 6666:1  \n",
       "1       0.335769               False                                     0:8705; 1:1295  \n",
       "2            NaN               False  NaN:592; US Army:37; Bank of America:23; IBM:2...  \n",
       "3       3.447625               False             10:2160; 1:2083; 2:1183; 3:1010; 4:889  \n",
       "4            NaN               False  RENT:4745; MORTGAGE:4445; OWN:775; OTHER:34; N...  \n",
       "5   48590.252757               False  60000.0:381; 50000.0:267; 40000.0:222; 75000.0...  \n",
       "6            NaN               False  not verified:4367; VERIFIED - income:3214; VER...  \n",
       "7            NaN                True                                        n:9998; y:2  \n",
       "8            NaN               False  NaN:3231; Personal Loan:3; Debt Consolidation:...  \n",
       "9            NaN               False  debt consolidation:4454; credit card:1273; oth...  \n",
       "10           NaN               False  Debt Consolidation:548; Debt Consolidation Loa...  \n",
       "11           NaN               False  100xx:158; 112xx:141; 945xx:129; 070xx:125; 60...  \n",
       "12           NaN               False            CA:1748; NY:958; FL:714; TX:700; NJ:482  \n",
       "13      6.754212               False      0.0:58; 12.48:16; 10.0:13; 13.51:13; 18.14:13  \n",
       "14      0.506270               False                   0:8910; 1:822; 2:186; 3:50; 4:14  \n",
       "15           NaN               False  1998-11-01 00:00:00:95; 2000-11-01 00:00:00:95...  \n",
       "16      1.476052               False               0:4602; 1:2684; 2:1431; 3:731; 4:227  \n",
       "17     22.361443               False               NaN:6316; 0:163; 30:69; 34:66; 23:65  \n",
       "18     46.189619               False              NaN:9160; 0:267; 89:21; 116:18; 92:17  \n",
       "19      4.526590               False                7:1035; 6:990; 8:937; 9:929; 10:805  \n",
       "20      0.251245               False                    0:9422; 1:550; 2:18; 3:5; NaN:5  \n",
       "21  25437.908202               False             0:278; 2227:6; 1763:6; 4801:5; 11628:5  \n",
       "22     28.220557               False          0.0:254; NaN:26; 46.6:21; 0.1:20; 43.4:20  \n",
       "23     11.709400               False             15:369; 20:360; 17:360; 12:357; 14:351  \n",
       "24           NaN                True                                       f:9983; m:17  \n",
       "25      0.000000                True                                     0:9968; NaN:32  \n",
       "26      0.810963               False                             2:3424; 3:3299; 1:3277  \n",
       "27           NaN               False   PC3:2098; PC5:2025; PC1:1978; PC2:1962; PC4:1937  "
      ]
     },
     "execution_count": 20,
     "metadata": {},
     "output_type": "execute_result"
    }
   ],
   "source": [
    "df_summary[[\"column\",\"dtype\",\"missing_rate%\",\"unique_count\",\"min_value\",\"max_value\",\"dominant_value\",\"dominant_share\",\"variance\",\"std\",\"near_constant_flag\",\"top_5_values\"]]"
   ]
  },
  {
   "cell_type": "markdown",
   "id": "5481cb4a",
   "metadata": {},
   "source": [
    "# \"pymnt_plan\" has 99.98% dominant values and no useful information; it will be dropped pre-split"
   ]
  },
  {
   "cell_type": "code",
   "execution_count": 21,
   "id": "3f516f8c",
   "metadata": {},
   "outputs": [
    {
     "name": "stdout",
     "output_type": "stream",
     "text": [
      "(10000, 28)\n",
      "(10000, 27)\n"
     ]
    }
   ],
   "source": [
    "print(df_raw.shape)\n",
    "df_raw.drop(columns=[\"pymnt_plan\"], inplace=True)\n",
    "print(df_raw.shape)"
   ]
  },
  {
   "cell_type": "markdown",
   "id": "a6e337ab",
   "metadata": {},
   "source": [
    "# Pre-split Transformations"
   ]
  },
  {
   "cell_type": "markdown",
   "id": "54029c49",
   "metadata": {},
   "source": [
    "### Encode all nominal and ordinal values in object columns"
   ]
  },
  {
   "cell_type": "code",
   "execution_count": null,
   "id": "5a4338f2",
   "metadata": {},
   "outputs": [],
   "source": [
    "###################################\n",
    "###################################\n",
    "###################################\n",
    "###################################\n",
    "###################################\n",
    "###################################\n",
    "\n",
    "for col in df_raw.select_dtypes(include=['object']).columns:\n",
    "    data_type = df_schema_validation.loc[df_schema_validation['column'] == col, 'data_typex'].values[0]\n",
    "    if data_type in ['Nominal', 'Ordinal']:        \n",
    "        le = LabelEncoder()\n",
    "        df_raw[col] = df_raw[col].astype(str)  # Ensure all values are strings\n",
    "        df_raw[col] = le.fit_transform(df_raw[col])"
   ]
  },
  {
   "cell_type": "code",
   "execution_count": null,
   "id": "e3893cb8",
   "metadata": {},
   "outputs": [],
   "source": [
    "df_raw[\"emp_title\"].value_counts().head(10)"
   ]
  },
  {
   "cell_type": "code",
   "execution_count": 25,
   "id": "0f3d1abe",
   "metadata": {},
   "outputs": [],
   "source": [
    "df_raw.to_csv(\"cleaned.csv\", index=False, encoding='utf-8')"
   ]
  },
  {
   "cell_type": "code",
   "execution_count": null,
   "id": "1ecbe01b",
   "metadata": {},
   "outputs": [],
   "source": [
    "df_summary = summarize_near_constant_features(df_raw)"
   ]
  },
  {
   "cell_type": "code",
   "execution_count": null,
   "id": "d1920f7d",
   "metadata": {},
   "outputs": [],
   "source": [
    "df_summary[[\"column\",\"dtype\",\"missing_rate\",\"unique_count\",\"min_value\",\"max_value\",\"dominant_value\",\"dominant_share\",\"variance\",\"std\",\"near_constant_flag\",\"top_5_values\"]]"
   ]
  },
  {
   "cell_type": "code",
   "execution_count": null,
   "id": "15d01e71",
   "metadata": {},
   "outputs": [],
   "source": [
    "df_presplit_trans = df_raw.copy()"
   ]
  },
  {
   "cell_type": "code",
   "execution_count": null,
   "id": "a9f8a0b8",
   "metadata": {},
   "outputs": [],
   "source": [
    "encoder = LabelEncoder()\n",
    "df_presplit_trans[\"initial_list_status\"] = encoder.fit_transform(df_raw[\"initial_list_status\"])"
   ]
  },
  {
   "cell_type": "markdown",
   "id": "478085ec",
   "metadata": {},
   "source": [
    "## collections_12_mths_ex_med\n",
    "Type of missingness is unknown at this time."
   ]
  },
  {
   "cell_type": "code",
   "execution_count": null,
   "id": "54b67765",
   "metadata": {},
   "outputs": [],
   "source": [
    "# # collections_12_mths_ex_med consists of 0s and missing values; will convert missing values to -1 and examine further after post-split\n",
    "# print(df_raw[\"collections_12_mths_ex_med\"].value_counts())\n",
    "# print(df_raw[\"collections_12_mths_ex_med\"].isna().sum())\n",
    "\n",
    "# #convert \"NA\" values to -1\n",
    "# df_raw[\"collections_12_mths_ex_med\"] = df_raw[\"collections_12_mths_ex_med\"].fillna(-1)\n",
    "# print()\n",
    "# print(df_raw[\"collections_12_mths_ex_med\"].value_counts())\n",
    "# print(df_raw[\"collections_12_mths_ex_med\"].isna().sum())"
   ]
  },
  {
   "cell_type": "markdown",
   "id": "87fc6447",
   "metadata": {},
   "source": [
    "# Splitting the dataset"
   ]
  },
  {
   "cell_type": "code",
   "execution_count": null,
   "id": "c2edcd05",
   "metadata": {},
   "outputs": [],
   "source": [
    "target_col = 'is_bad'\n",
    "X = df_presplit_trans.drop(columns=[target_col])\n",
    "y = df_presplit_trans[target_col]\n",
    "\n",
    "# First: split off the test set (10%)\n",
    "X_temp, X_test, y_temp, y_test = train_test_split(\n",
    "    X, y,\n",
    "    test_size=0.10,\n",
    "    stratify=y,\n",
    "    random_state=42\n",
    ")\n",
    "\n",
    "# Next: split the remaining 90% into train (80%) and validation (10%)\n",
    "# Since test already took 10%, we want 10/90 = ~0.1111 of the remainder as validation\n",
    "X_train, X_val, y_train, y_val = train_test_split(\n",
    "    X_temp, y_temp,\n",
    "    test_size=1/9,   # ≈ 0.1111\n",
    "    stratify=y_temp,\n",
    "    random_state=42\n",
    ")\n",
    "\n",
    "splits = [X_train, X_val, X_test, y_train, y_val, y_test]    \n",
    "\n",
    "print(\"Train size:\", len(X_train))\n",
    "print(\"Validation size:\", len(X_val))\n",
    "print(\"Test size:\", len(X_test))\n",
    "\n",
    "# Check stratification worked (class balance preserved)\n",
    "print(\"\\nClass distribution in train:\")\n",
    "print(y_train.value_counts(normalize=True))\n",
    "\n",
    "print(\"\\nClass distribution in validation:\")\n",
    "print(y_val.value_counts(normalize=True))\n",
    "\n",
    "print(\"\\nClass distribution in test:\")\n",
    "print(y_test.value_counts(normalize=True))"
   ]
  },
  {
   "cell_type": "markdown",
   "id": "e89a2621",
   "metadata": {},
   "source": [
    "# Post-split EDA"
   ]
  },
  {
   "cell_type": "code",
   "execution_count": null,
   "id": "c4a8a756",
   "metadata": {},
   "outputs": [],
   "source": [
    "df_analysis = df_presplit_trans[df_presplit_trans['Id'].isin(X_train['Id'])]"
   ]
  },
  {
   "cell_type": "markdown",
   "id": "dfce2bb0",
   "metadata": {},
   "source": [
    "## collections_12_mths_ex_med"
   ]
  },
  {
   "cell_type": "code",
   "execution_count": null,
   "id": "db525053",
   "metadata": {},
   "outputs": [],
   "source": [
    "# collections_12_mths_ex_med has 29 missing values and by itself likely contains little information for prediction; confirming with Fisher's exact test\n",
    "df_analysis[\"collections_12_mths_ex_med\"] = df_analysis[\"collections_12_mths_ex_med\"].fillna(-1)\n",
    "df_analysis[\"collections_12_mths_ex_med\"].value_counts()\n",
    "fisher_exact_test(df_analysis, 'collections_12_mths_ex_med', -1, TARGET_COL)"
   ]
  },
  {
   "cell_type": "code",
   "execution_count": null,
   "id": "60ce8a15",
   "metadata": {},
   "outputs": [],
   "source": [
    "drop_cols.append('collections_12_mths_ex_med')"
   ]
  },
  {
   "cell_type": "markdown",
   "id": "293256ee",
   "metadata": {},
   "source": [
    "## initial_list_status"
   ]
  },
  {
   "cell_type": "code",
   "execution_count": null,
   "id": "499f4d43",
   "metadata": {},
   "outputs": [],
   "source": [
    "# initial_list_status\n",
    "col = 'initial_list_status'\n",
    "print(f\"Missing values in {col}: {df_analysis[col].isna().sum()}\")\n",
    "print(df_analysis[col].value_counts())\n",
    "\n",
    "fisher_exact_test(df_analysis, col, 1, TARGET_COL)"
   ]
  },
  {
   "cell_type": "code",
   "execution_count": null,
   "id": "1321dcd8",
   "metadata": {},
   "outputs": [],
   "source": [
    "drop_cols.append('initial_list_status')"
   ]
  },
  {
   "cell_type": "markdown",
   "id": "3aa6111a",
   "metadata": {},
   "source": [
    "# Post-Split Transformations"
   ]
  },
  {
   "cell_type": "code",
   "execution_count": null,
   "id": "15707fad",
   "metadata": {},
   "outputs": [],
   "source": [
    "drop_cols"
   ]
  },
  {
   "cell_type": "code",
   "execution_count": null,
   "id": "25ed2f0e",
   "metadata": {},
   "outputs": [],
   "source": [
    "# Add KeyError exception handling\n",
    "for col in drop_cols:\n",
    "    if col not in X_train.columns:\n",
    "        print(f\"Warning: Column '{col}' not found in X_train\")\n",
    "    if col not in X_val.columns:\n",
    "        print(f\"Warning: Column '{col}' not found in X_val\")\n",
    "    if col not in X_test.columns:\n",
    "        print(f\"Warning: Column '{col}' not found in X_test\")\n",
    "    try:\n",
    "        X_train.drop(columns=[col], inplace=True)\n",
    "        X_val.drop(columns=[col], inplace=True)\n",
    "        X_test.drop(columns=[col], inplace=True)\n",
    "    except KeyError as e:\n",
    "        print(f\"KeyError: {e} - One or more columns not found in DataFrame\")"
   ]
  },
  {
   "cell_type": "code",
   "execution_count": null,
   "id": "698101dd",
   "metadata": {},
   "outputs": [],
   "source": [
    "X_train.head(5)"
   ]
  },
  {
   "cell_type": "markdown",
   "id": "d210531e",
   "metadata": {},
   "source": [
    "# Consider dropping rows with missing data"
   ]
  },
  {
   "cell_type": "markdown",
   "id": "ddee1d91",
   "metadata": {},
   "source": [
    "# Imputing missing data"
   ]
  },
  {
   "cell_type": "code",
   "execution_count": null,
   "id": "c7081376",
   "metadata": {},
   "outputs": [],
   "source": []
  }
 ],
 "metadata": {
  "kernelspec": {
   "display_name": ".venv",
   "language": "python",
   "name": "python3"
  },
  "language_info": {
   "codemirror_mode": {
    "name": "ipython",
    "version": 3
   },
   "file_extension": ".py",
   "mimetype": "text/x-python",
   "name": "python",
   "nbconvert_exporter": "python",
   "pygments_lexer": "ipython3",
   "version": "3.13.0"
  }
 },
 "nbformat": 4,
 "nbformat_minor": 5
}
